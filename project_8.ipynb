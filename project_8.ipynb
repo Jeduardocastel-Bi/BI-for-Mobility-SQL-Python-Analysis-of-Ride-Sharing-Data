{
 "cells": [
  {
   "cell_type": "markdown",
   "metadata": {
    "toc": true
   },
   "source": [
    "<h1>Table of Contents<span class=\"tocSkip\"></span></h1>\n",
    "<div class=\"toc\"><ul class=\"toc-item\"><li><span><a href=\"#Introducciòn\" data-toc-modified-id=\"Introducciòn-1\"><span class=\"toc-item-num\">1&nbsp;&nbsp;</span>Introducciòn</a></span></li><li><span><a href=\"#Anàlisis-de-los-datos-de-la-empresa-Zuber-de-Chicago\" data-toc-modified-id=\"Anàlisis-de-los-datos-de-la-empresa-Zuber-de-Chicago-2\"><span class=\"toc-item-num\">2&nbsp;&nbsp;</span>Anàlisis de los datos de la empresa Zuber de Chicago</a></span><ul class=\"toc-item\"><li><span><a href=\"#Analisis-del-Dataframe-Compañia\" data-toc-modified-id=\"Analisis-del-Dataframe-Compañia-2.1\"><span class=\"toc-item-num\">2.1&nbsp;&nbsp;</span>Analisis del Dataframe Compañia</a></span><ul class=\"toc-item\"><li><span><a href=\"#Top-ten-empresas-con-mayor-cantidad-de-viajes-de-taxis\" data-toc-modified-id=\"Top-ten-empresas-con-mayor-cantidad-de-viajes-de-taxis-2.1.1\"><span class=\"toc-item-num\">2.1.1&nbsp;&nbsp;</span>Top ten empresas con mayor cantidad de viajes de taxis</a></span></li></ul></li></ul></li><li><span><a href=\"#Analisis-del-Dataframe-de-los-viajes\" data-toc-modified-id=\"Analisis-del-Dataframe-de-los-viajes-3\"><span class=\"toc-item-num\">3&nbsp;&nbsp;</span>Analisis del Dataframe de los viajes</a></span><ul class=\"toc-item\"><li><span><a href=\"#Top-10-de-los-destinos-mas-visitados-de-los-taxistas\" data-toc-modified-id=\"Top-10-de-los-destinos-mas-visitados-de-los-taxistas-3.1\"><span class=\"toc-item-num\">3.1&nbsp;&nbsp;</span>Top 10 de los destinos mas visitados de los taxistas</a></span></li></ul></li><li><span><a href=\"#Analisis-del-Dataframe:-Viajes-desde-el-Loop-hasta-O´hare\" data-toc-modified-id=\"Analisis-del-Dataframe:-Viajes-desde-el-Loop-hasta-O´hare-4\"><span class=\"toc-item-num\">4&nbsp;&nbsp;</span>Analisis del Dataframe: Viajes desde el Loop hasta O´hare</a></span></li><li><span><a href=\"#Prueba-de--Hipotesis\" data-toc-modified-id=\"Prueba-de--Hipotesis-5\"><span class=\"toc-item-num\">5&nbsp;&nbsp;</span>Prueba de  Hipotesis</a></span><ul class=\"toc-item\"><li><span><a href=\"#Probar-la-siguiente-hipótesis-con-t-test\" data-toc-modified-id=\"Probar-la-siguiente-hipótesis-con-t-test-5.1\"><span class=\"toc-item-num\">5.1&nbsp;&nbsp;</span>Probar la siguiente hipótesis con t-test</a></span></li><li><span><a href=\"#Probar-la-siguiente-hipótesis-con-la-prueba-Levene\" data-toc-modified-id=\"Probar-la-siguiente-hipótesis-con-la-prueba-Levene-5.2\"><span class=\"toc-item-num\">5.2&nbsp;&nbsp;</span>Probar la siguiente hipótesis con la prueba Levene</a></span></li></ul></li><li><span><a href=\"#Conclusiones\" data-toc-modified-id=\"Conclusiones-6\"><span class=\"toc-item-num\">6&nbsp;&nbsp;</span>Conclusiones</a></span></li></ul></div>"
   ]
  },
  {
   "cell_type": "markdown",
   "metadata": {},
   "source": [
    "# ¡Hola Jairo!\n",
    "\n",
    "Mi nombre es Ezequiel Ferrario, soy code reviewer en Tripleten y tengo el agrado de revisar el proyecto que entregaste.\n",
    "\n",
    "Para simular la dinámica de un ambiente de trabajo, si veo algún error, en primer instancia solo los señalaré, dándote la oportunidad de encontrarlos y corregirlos por tu cuenta. En un trabajo real, el líder de tu equipo hará una dinámica similar. En caso de que no puedas resolver la tarea, te daré una información más precisa en la próxima revisión.\n",
    "\n",
    "Encontrarás mis comentarios más abajo - **por favor, no los muevas, no los modifiques ni los borres**.\n",
    "\n",
    "¿Cómo lo voy a hacer? Voy a leer detenidamente cada una de las implementaciones que has llevado a cabo para cumplir con lo solicitado. Verás los comentarios de esta forma:\n",
    "\n",
    "\n",
    "<div class=\"alert alert-block alert-success\">\n",
    "<b>Comentario del revisor</b> <a class=\"tocSkip\"></a>\n",
    "\n",
    "Si todo está perfecto.\n",
    "</div>\n",
    "\n",
    "\n",
    "<div class=\"alert alert-block alert-warning\">\n",
    "<b>Comentario del revisor</b> <a class=\"tocSkip\"></a>\n",
    "\n",
    "Si tu código está bien pero se puede mejorar o hay algún detalle que le hace falta. Se aceptan uno o dos comentarios de este tipo en el borrador, pero si hay más, deberá hacer las correcciones. Es como una tarea de prueba al solicitar un trabajo: muchos pequeños errores pueden hacer que un candidato sea rechazado.\n",
    "</div>\n",
    "\n",
    "<div class=\"alert alert-block alert-danger\">\n",
    "\n",
    "<b>Comentario del revisor</b> <a class=\"tocSkip\"></a>\n",
    "\n",
    "Si de pronto hace falta algo o existe algún problema con tu código o conclusiones.\n",
    "</div>\n",
    "\n",
    "Puedes responderme de esta forma:\n",
    "\n",
    "<div class=\"alert alert-block alert-info\">\n",
    "<b>Respuesta del estudiante</b> <a class=\"tocSkip\"></a>\n",
    "\n",
    "Hola, muchas gracias por tus comentarios y la revisión.\n",
    "</div>\n",
    "\n",
    "¡Empecemos!"
   ]
  },
  {
   "cell_type": "markdown",
   "metadata": {},
   "source": [
    "-------\n",
    "\n",
    "<div class=\"alert alert-block alert-danger\">\n",
    "\n",
    "<b>Comentario general #1</b> <a class=\"tocSkip\"></a>\n",
    "\n",
    "Jairo, hiciste un excelente proyecto donde completaste todos los puntos del mismo.\n",
    "\n",
    "La exploracion inicial fue muy buena ya que supiste utilizar los diferentes metodos, los graficos siguieron el mismo camino ya que fueron concisos y claros.\n",
    "\n",
    "La idea de eliminar outliers (y observarlos) fue perfecta ya que pueden afectar nuestra prueba estadistica.\n",
    "\n",
    "Asi, restan algunos detalles por abarcar para finalizar este buen trabajo.\n",
    "\n",
    "Espero tu correccion, saludos.</div>\n",
    "\n",
    "\n",
    "\n",
    "---------\n",
    "\n",
    "<div class=\"alert alert-block alert-success\">\n",
    "\n",
    "<b>Comentario general #2</b> <a class=\"tocSkip\"></a>\n",
    "\n",
    "Jairo, las correcciones han sido perfectas.\n",
    "\n",
    "Las abarcaste a todas de muy buena manera, me gusto mucho como abarcaste todas las exploraciones y el uso de Levene.\n",
    "\n",
    "Asi, este proyecto llega su fin por lo que pasa a estar **aprobado**.\n",
    "\n",
    "Exitos en lo que viene, saludos.</div> \n",
    "\n",
    "\n",
    "------"
   ]
  },
  {
   "cell_type": "markdown",
   "metadata": {},
   "source": [
    "<div class=\"alert alert-block alert-danger\">\n",
    "\n",
    "<b>Comentario del revisor</b> <a class=\"tocSkip\"></a>\n",
    "\n",
    "Hace una tabla de contenidos que este  linkeada a las secciones (al clickear debe llevarnos a esa seccion) de esta manera es mas facil desplazarse.\n",
    "\n",
    "Como consejo, si realizas bien todas las secciones (con su respectivo #) podes generarlo automáticamente desde jupyter lab. Para hacerlo, en la pestaña de herramientas de jupyter lab clickeas en el **botón de los puntos y barras**  (Table of contents) te generara automáticamente una tabla de contenidos linkeable y estética. A la **derecha** del seleccionador del tipo de celda (code/markdown)</div>\n",
    "\n",
    "<div class=\"alert alert-block alert-danger\">\n",
    "\n",
    "<b>Comentario del revisor</b> <a class=\"tocSkip\"></a>\n",
    "\n",
    "Jairo, recorda realizar una introduccion al proyecto, explicando los objetivos y explicando de que se trata. Esto es muy importante de hacer para asentar las bases del proyecto, ademas de dejar en claro que se busca. A partir de una mirada a la introduccion ya entenderemos que buscamos con el proyecto.</div>\n",
    "\n",
    "\n",
    "<div class=\"alert alert-block alert-success\">\n",
    "\n",
    "<b>Comentario del revisor #2</b> <a class=\"tocSkip\"></a>\n",
    "\n",
    "Corregdio ambos puntos.</div>"
   ]
  },
  {
   "cell_type": "markdown",
   "metadata": {},
   "source": [
    "<h1> Proyecto Empresa Zuber </h1>"
   ]
  },
  {
   "cell_type": "markdown",
   "metadata": {},
   "source": [
    "## Introducciòn "
   ]
  },
  {
   "cell_type": "markdown",
   "metadata": {},
   "source": [
    "Zuber es una empresa nueva de transporte pùblico en la Ciudad de Chicago y requiere analizar el mercado y los patrones de la industria. El objetivo de este proyecto es analizar la informaciòn obtenida del mercado, la competencia y factores externos que impactan la operacion del negocio, ademas de generar nuevos insights para la compañia y asì poder tomar decisiones en el area comercial, ventas y operaciones. Para empezar analizaremos las compañias lideres del mercado, el promedio de viajes que se realizan, los lugares destinos màs apetecidos por los clientes y por ultimo probaremos la hipotesis de còmo el clima afecta las operaciones diarias de las compañias en la ciudad de Chicago."
   ]
  },
  {
   "cell_type": "markdown",
   "metadata": {},
   "source": [
    "##  Anàlisis de los datos de la empresa Zuber de Chicago"
   ]
  },
  {
   "cell_type": "code",
   "execution_count": 5,
   "metadata": {},
   "outputs": [],
   "source": [
    "#Carga de todos los datasets para el anàlisis de datos"
   ]
  },
  {
   "cell_type": "code",
   "execution_count": 6,
   "metadata": {},
   "outputs": [],
   "source": [
    "import pandas as pd\n",
    "import matplotlib.pyplot as plt\n",
    "import seaborn as sns"
   ]
  },
  {
   "cell_type": "code",
   "execution_count": 7,
   "metadata": {},
   "outputs": [],
   "source": [
    "# Importamos el Dataframe de la Compañia\n",
    "company_df = pd.read_csv('/datasets/project_sql_result_01.csv')"
   ]
  },
  {
   "cell_type": "code",
   "execution_count": 8,
   "metadata": {},
   "outputs": [],
   "source": [
    "# Importamos el Dataframe de los viajes \n",
    "trips_df = pd.read_csv('/datasets/project_sql_result_04.csv')"
   ]
  },
  {
   "cell_type": "code",
   "execution_count": 9,
   "metadata": {},
   "outputs": [],
   "source": [
    "#Se importan el dataframe de las duraciones de los recorridos y el clima de chicago\n",
    "\n",
    "data_viaje_loop_ohare = pd.read_csv('/datasets/project_sql_result_07.csv')"
   ]
  },
  {
   "cell_type": "markdown",
   "metadata": {},
   "source": [
    "<div class=\"alert alert-block alert-danger\">\n",
    "\n",
    "<b>Comentario del revisor</b> <a class=\"tocSkip\"></a>\n",
    "\n",
    "Esta celda dedicala exclusivamente a la carga de datasets, por lo que debes cargar **todos** los datasets existentes en esta celda. Esto debido a que constituye una buena practica, ya que al comienzo del notebook ya estaria todo ejecutado y ante cualquier cambio lo tenemos de facil acceso.</div>\n",
    "\n",
    "\n",
    "<div class=\"alert alert-block alert-warning\">\n",
    "\n",
    "<b>Comentario del revisor #2</b> <a class=\"tocSkip\"></a>\n",
    "\n",
    "Corregido, en este caso lo mejor es tener todas las carga de datasets en una misma celda.</div>"
   ]
  },
  {
   "cell_type": "markdown",
   "metadata": {},
   "source": [
    "###   Analisis del Dataframe Compañia "
   ]
  },
  {
   "cell_type": "code",
   "execution_count": 10,
   "metadata": {},
   "outputs": [
    {
     "name": "stdout",
     "output_type": "stream",
     "text": [
      "<class 'pandas.core.frame.DataFrame'>\n",
      "RangeIndex: 64 entries, 0 to 63\n",
      "Data columns (total 2 columns):\n",
      " #   Column        Non-Null Count  Dtype \n",
      "---  ------        --------------  ----- \n",
      " 0   company_name  64 non-null     object\n",
      " 1   trips_amount  64 non-null     int64 \n",
      "dtypes: int64(1), object(1)\n",
      "memory usage: 1.1+ KB\n"
     ]
    }
   ],
   "source": [
    "company_df.info()"
   ]
  },
  {
   "cell_type": "markdown",
   "metadata": {},
   "source": [
    "Cantidad de viajes por compañia de taxis:"
   ]
  },
  {
   "cell_type": "code",
   "execution_count": 11,
   "metadata": {},
   "outputs": [
    {
     "data": {
      "text/html": [
       "<div>\n",
       "<style scoped>\n",
       "    .dataframe tbody tr th:only-of-type {\n",
       "        vertical-align: middle;\n",
       "    }\n",
       "\n",
       "    .dataframe tbody tr th {\n",
       "        vertical-align: top;\n",
       "    }\n",
       "\n",
       "    .dataframe thead th {\n",
       "        text-align: right;\n",
       "    }\n",
       "</style>\n",
       "<table border=\"1\" class=\"dataframe\">\n",
       "  <thead>\n",
       "    <tr style=\"text-align: right;\">\n",
       "      <th></th>\n",
       "      <th>company_name</th>\n",
       "      <th>trips_amount</th>\n",
       "    </tr>\n",
       "  </thead>\n",
       "  <tbody>\n",
       "    <tr>\n",
       "      <th>0</th>\n",
       "      <td>Flash Cab</td>\n",
       "      <td>19558</td>\n",
       "    </tr>\n",
       "    <tr>\n",
       "      <th>1</th>\n",
       "      <td>Taxi Affiliation Services</td>\n",
       "      <td>11422</td>\n",
       "    </tr>\n",
       "    <tr>\n",
       "      <th>2</th>\n",
       "      <td>Medallion Leasing</td>\n",
       "      <td>10367</td>\n",
       "    </tr>\n",
       "    <tr>\n",
       "      <th>3</th>\n",
       "      <td>Yellow Cab</td>\n",
       "      <td>9888</td>\n",
       "    </tr>\n",
       "    <tr>\n",
       "      <th>4</th>\n",
       "      <td>Taxi Affiliation Service Yellow</td>\n",
       "      <td>9299</td>\n",
       "    </tr>\n",
       "  </tbody>\n",
       "</table>\n",
       "</div>"
      ],
      "text/plain": [
       "                      company_name  trips_amount\n",
       "0                        Flash Cab         19558\n",
       "1        Taxi Affiliation Services         11422\n",
       "2                Medallion Leasing         10367\n",
       "3                       Yellow Cab          9888\n",
       "4  Taxi Affiliation Service Yellow          9299"
      ]
     },
     "execution_count": 11,
     "metadata": {},
     "output_type": "execute_result"
    }
   ],
   "source": [
    "company_df.head()"
   ]
  },
  {
   "cell_type": "code",
   "execution_count": 12,
   "metadata": {},
   "outputs": [
    {
     "data": {
      "text/html": [
       "<div>\n",
       "<style scoped>\n",
       "    .dataframe tbody tr th:only-of-type {\n",
       "        vertical-align: middle;\n",
       "    }\n",
       "\n",
       "    .dataframe tbody tr th {\n",
       "        vertical-align: top;\n",
       "    }\n",
       "\n",
       "    .dataframe thead th {\n",
       "        text-align: right;\n",
       "    }\n",
       "</style>\n",
       "<table border=\"1\" class=\"dataframe\">\n",
       "  <thead>\n",
       "    <tr style=\"text-align: right;\">\n",
       "      <th></th>\n",
       "      <th>trips_amount</th>\n",
       "    </tr>\n",
       "  </thead>\n",
       "  <tbody>\n",
       "    <tr>\n",
       "      <th>count</th>\n",
       "      <td>64.000000</td>\n",
       "    </tr>\n",
       "    <tr>\n",
       "      <th>mean</th>\n",
       "      <td>2145.484375</td>\n",
       "    </tr>\n",
       "    <tr>\n",
       "      <th>std</th>\n",
       "      <td>3812.310186</td>\n",
       "    </tr>\n",
       "    <tr>\n",
       "      <th>min</th>\n",
       "      <td>2.000000</td>\n",
       "    </tr>\n",
       "    <tr>\n",
       "      <th>25%</th>\n",
       "      <td>20.750000</td>\n",
       "    </tr>\n",
       "    <tr>\n",
       "      <th>50%</th>\n",
       "      <td>178.500000</td>\n",
       "    </tr>\n",
       "    <tr>\n",
       "      <th>75%</th>\n",
       "      <td>2106.500000</td>\n",
       "    </tr>\n",
       "    <tr>\n",
       "      <th>max</th>\n",
       "      <td>19558.000000</td>\n",
       "    </tr>\n",
       "  </tbody>\n",
       "</table>\n",
       "</div>"
      ],
      "text/plain": [
       "       trips_amount\n",
       "count     64.000000\n",
       "mean    2145.484375\n",
       "std     3812.310186\n",
       "min        2.000000\n",
       "25%       20.750000\n",
       "50%      178.500000\n",
       "75%     2106.500000\n",
       "max    19558.000000"
      ]
     },
     "execution_count": 12,
     "metadata": {},
     "output_type": "execute_result"
    }
   ],
   "source": [
    "company_df.describe()"
   ]
  },
  {
   "cell_type": "code",
   "execution_count": 13,
   "metadata": {},
   "outputs": [
    {
     "data": {
      "text/plain": [
       "0"
      ]
     },
     "execution_count": 13,
     "metadata": {},
     "output_type": "execute_result"
    }
   ],
   "source": [
    "#Se verifica si existen duplicados en el dataset company_df \n",
    "\n",
    "company_df.duplicated().sum()"
   ]
  },
  {
   "cell_type": "code",
   "execution_count": 14,
   "metadata": {},
   "outputs": [
    {
     "data": {
      "text/plain": [
       "company_name    0\n",
       "trips_amount    0\n",
       "dtype: int64"
      ]
     },
     "execution_count": 14,
     "metadata": {},
     "output_type": "execute_result"
    }
   ],
   "source": [
    "#Se verifica si hay valores ausentes \n",
    "\n",
    "company_df.isna().sum()"
   ]
  },
  {
   "cell_type": "markdown",
   "metadata": {},
   "source": [
    "Conclusiones del dataset 'company_df': \n",
    "El dataset no cuenta con valores duplicados ni ausentes y se compone de dos columnas: 'company_name'de tipo objeto y 'trips_amount' de tipo entero, en donde se puede identificar que hay 64 nombres de compañias, en promedio realizan 2.145 viajes dentro de Chicago."
   ]
  },
  {
   "cell_type": "markdown",
   "metadata": {},
   "source": [
    "#### Top ten empresas con mayor cantidad de viajes de taxis"
   ]
  },
  {
   "cell_type": "code",
   "execution_count": 15,
   "metadata": {},
   "outputs": [
    {
     "data": {
      "text/html": [
       "<div>\n",
       "<style scoped>\n",
       "    .dataframe tbody tr th:only-of-type {\n",
       "        vertical-align: middle;\n",
       "    }\n",
       "\n",
       "    .dataframe tbody tr th {\n",
       "        vertical-align: top;\n",
       "    }\n",
       "\n",
       "    .dataframe thead th {\n",
       "        text-align: right;\n",
       "    }\n",
       "</style>\n",
       "<table border=\"1\" class=\"dataframe\">\n",
       "  <thead>\n",
       "    <tr style=\"text-align: right;\">\n",
       "      <th></th>\n",
       "      <th>company_name</th>\n",
       "      <th>trips_amount</th>\n",
       "    </tr>\n",
       "  </thead>\n",
       "  <tbody>\n",
       "    <tr>\n",
       "      <th>0</th>\n",
       "      <td>Flash Cab</td>\n",
       "      <td>19558</td>\n",
       "    </tr>\n",
       "    <tr>\n",
       "      <th>1</th>\n",
       "      <td>Taxi Affiliation Services</td>\n",
       "      <td>11422</td>\n",
       "    </tr>\n",
       "    <tr>\n",
       "      <th>2</th>\n",
       "      <td>Medallion Leasing</td>\n",
       "      <td>10367</td>\n",
       "    </tr>\n",
       "    <tr>\n",
       "      <th>3</th>\n",
       "      <td>Yellow Cab</td>\n",
       "      <td>9888</td>\n",
       "    </tr>\n",
       "    <tr>\n",
       "      <th>4</th>\n",
       "      <td>Taxi Affiliation Service Yellow</td>\n",
       "      <td>9299</td>\n",
       "    </tr>\n",
       "    <tr>\n",
       "      <th>5</th>\n",
       "      <td>Chicago Carriage Cab Corp</td>\n",
       "      <td>9181</td>\n",
       "    </tr>\n",
       "    <tr>\n",
       "      <th>6</th>\n",
       "      <td>City Service</td>\n",
       "      <td>8448</td>\n",
       "    </tr>\n",
       "    <tr>\n",
       "      <th>7</th>\n",
       "      <td>Sun Taxi</td>\n",
       "      <td>7701</td>\n",
       "    </tr>\n",
       "    <tr>\n",
       "      <th>8</th>\n",
       "      <td>Star North Management LLC</td>\n",
       "      <td>7455</td>\n",
       "    </tr>\n",
       "    <tr>\n",
       "      <th>9</th>\n",
       "      <td>Blue Ribbon Taxi Association Inc.</td>\n",
       "      <td>5953</td>\n",
       "    </tr>\n",
       "  </tbody>\n",
       "</table>\n",
       "</div>"
      ],
      "text/plain": [
       "                        company_name  trips_amount\n",
       "0                          Flash Cab         19558\n",
       "1          Taxi Affiliation Services         11422\n",
       "2                  Medallion Leasing         10367\n",
       "3                         Yellow Cab          9888\n",
       "4    Taxi Affiliation Service Yellow          9299\n",
       "5          Chicago Carriage Cab Corp          9181\n",
       "6                       City Service          8448\n",
       "7                           Sun Taxi          7701\n",
       "8          Star North Management LLC          7455\n",
       "9  Blue Ribbon Taxi Association Inc.          5953"
      ]
     },
     "execution_count": 15,
     "metadata": {},
     "output_type": "execute_result"
    }
   ],
   "source": [
    "top_10_empresas = company_df.sort_values('trips_amount', ascending = False).head(10)\n",
    "top_10_empresas"
   ]
  },
  {
   "cell_type": "markdown",
   "metadata": {},
   "source": [
    "<div class=\"alert alert-block alert-danger\">\n",
    "\n",
    "<b>Comentario del revisor</b> <a class=\"tocSkip\"></a>\n",
    "\n",
    "Verifica si existen duplicados </div>\n",
    "\n",
    "<div class=\"alert alert-block alert-danger\">\n",
    "\n",
    "<b>Comentario del revisor</b> <a class=\"tocSkip\"></a>\n",
    "\n",
    "Deja una descripcion de lo observado en este dataset en cuanto a como se compone, si hay errores o no  (nulos, duplicados, etc) y que informacion nos provee. Este punto es muy importante porque resumiremos con un analisis en **markdown** sobre como esta compuesto el dataset y sus variables mas importante. </div>\n",
    "\n",
    "\n",
    "<div class=\"alert alert-block alert-success\">\n",
    "\n",
    "<b>Comentario del revisor #2</b> <a class=\"tocSkip\"></a>\n",
    "\n",
    "Corregidos, perfecto.</div>"
   ]
  },
  {
   "cell_type": "code",
   "execution_count": 16,
   "metadata": {},
   "outputs": [],
   "source": [
    "#Grafico de barras: Top ten empresas con mayor cantidad de viajes de taxis"
   ]
  },
  {
   "cell_type": "code",
   "execution_count": 17,
   "metadata": {},
   "outputs": [],
   "source": [
    "top_10_empresas = top_10_empresas.set_index('company_name')"
   ]
  },
  {
   "cell_type": "code",
   "execution_count": 18,
   "metadata": {},
   "outputs": [
    {
     "data": {
      "image/png": "[encoded data removed]",
      "text/plain": [
       "<Figure size 640x480 with 1 Axes>"
      ]
     },
     "metadata": {},
     "output_type": "display_data"
    }
   ],
   "source": [
    "top_10_empresas.plot(kind='barh').set_title('Numero de viajes por Empresa de Taxis')\n",
    "plt.xlabel('Empresa')\n",
    "plt.ylabel('Numero de viajes')\n",
    "plt.tight_layout()\n",
    "plt.show()"
   ]
  },
  {
   "cell_type": "markdown",
   "metadata": {},
   "source": [
    "Esta grafica, muestra el número de viajes realizados por cada una de las principales empresas de taxis en Chicago. La empresa Flash Cab es la empresa con un mayor nùmero de viajes realizados y dentro de las 10 primeras la empresa Blue Ribbon es la que ocupa el ultimo lugar "
   ]
  },
  {
   "cell_type": "markdown",
   "metadata": {},
   "source": [
    "<div class=\"alert alert-block alert-success\">\n",
    "\n",
    "<b>Comentario del revisor</b> <a class=\"tocSkip\"></a>\n",
    "\n",
    "Muy buen grafico. </div>\n",
    "\n"
   ]
  },
  {
   "cell_type": "markdown",
   "metadata": {},
   "source": [
    "## Analisis del Dataframe de los viajes"
   ]
  },
  {
   "cell_type": "code",
   "execution_count": 19,
   "metadata": {},
   "outputs": [
    {
     "name": "stdout",
     "output_type": "stream",
     "text": [
      "<class 'pandas.core.frame.DataFrame'>\n",
      "RangeIndex: 94 entries, 0 to 93\n",
      "Data columns (total 2 columns):\n",
      " #   Column                 Non-Null Count  Dtype  \n",
      "---  ------                 --------------  -----  \n",
      " 0   dropoff_location_name  94 non-null     object \n",
      " 1   average_trips          94 non-null     float64\n",
      "dtypes: float64(1), object(1)\n",
      "memory usage: 1.6+ KB\n"
     ]
    }
   ],
   "source": [
    "trips_df.info()"
   ]
  },
  {
   "cell_type": "code",
   "execution_count": 20,
   "metadata": {},
   "outputs": [],
   "source": [
    "# Modifico la columna de 'average_trips' ya que los viajes deben ser enteros "
   ]
  },
  {
   "cell_type": "code",
   "execution_count": 21,
   "metadata": {},
   "outputs": [],
   "source": [
    "trips_df['average_trips'] = trips_df['average_trips'].astype(int)"
   ]
  },
  {
   "cell_type": "code",
   "execution_count": 22,
   "metadata": {},
   "outputs": [
    {
     "name": "stdout",
     "output_type": "stream",
     "text": [
      "<class 'pandas.core.frame.DataFrame'>\n",
      "RangeIndex: 94 entries, 0 to 93\n",
      "Data columns (total 2 columns):\n",
      " #   Column                 Non-Null Count  Dtype \n",
      "---  ------                 --------------  ----- \n",
      " 0   dropoff_location_name  94 non-null     object\n",
      " 1   average_trips          94 non-null     int64 \n",
      "dtypes: int64(1), object(1)\n",
      "memory usage: 1.6+ KB\n"
     ]
    }
   ],
   "source": [
    "trips_df.info()"
   ]
  },
  {
   "cell_type": "code",
   "execution_count": 23,
   "metadata": {},
   "outputs": [
    {
     "data": {
      "text/html": [
       "<div>\n",
       "<style scoped>\n",
       "    .dataframe tbody tr th:only-of-type {\n",
       "        vertical-align: middle;\n",
       "    }\n",
       "\n",
       "    .dataframe tbody tr th {\n",
       "        vertical-align: top;\n",
       "    }\n",
       "\n",
       "    .dataframe thead th {\n",
       "        text-align: right;\n",
       "    }\n",
       "</style>\n",
       "<table border=\"1\" class=\"dataframe\">\n",
       "  <thead>\n",
       "    <tr style=\"text-align: right;\">\n",
       "      <th></th>\n",
       "      <th>average_trips</th>\n",
       "    </tr>\n",
       "  </thead>\n",
       "  <tbody>\n",
       "    <tr>\n",
       "      <th>count</th>\n",
       "      <td>94.000000</td>\n",
       "    </tr>\n",
       "    <tr>\n",
       "      <th>mean</th>\n",
       "      <td>599.478723</td>\n",
       "    </tr>\n",
       "    <tr>\n",
       "      <th>std</th>\n",
       "      <td>1714.555974</td>\n",
       "    </tr>\n",
       "    <tr>\n",
       "      <th>min</th>\n",
       "      <td>1.000000</td>\n",
       "    </tr>\n",
       "    <tr>\n",
       "      <th>25%</th>\n",
       "      <td>14.000000</td>\n",
       "    </tr>\n",
       "    <tr>\n",
       "      <th>50%</th>\n",
       "      <td>51.500000</td>\n",
       "    </tr>\n",
       "    <tr>\n",
       "      <th>75%</th>\n",
       "      <td>298.750000</td>\n",
       "    </tr>\n",
       "    <tr>\n",
       "      <th>max</th>\n",
       "      <td>10727.000000</td>\n",
       "    </tr>\n",
       "  </tbody>\n",
       "</table>\n",
       "</div>"
      ],
      "text/plain": [
       "       average_trips\n",
       "count      94.000000\n",
       "mean      599.478723\n",
       "std      1714.555974\n",
       "min         1.000000\n",
       "25%        14.000000\n",
       "50%        51.500000\n",
       "75%       298.750000\n",
       "max     10727.000000"
      ]
     },
     "execution_count": 23,
     "metadata": {},
     "output_type": "execute_result"
    }
   ],
   "source": [
    "trips_df.describe()"
   ]
  },
  {
   "cell_type": "code",
   "execution_count": 24,
   "metadata": {},
   "outputs": [
    {
     "data": {
      "text/plain": [
       "0"
      ]
     },
     "execution_count": 24,
     "metadata": {},
     "output_type": "execute_result"
    }
   ],
   "source": [
    "# Se verifica si existen duplicados en el dataset: 'trips_df'\n",
    "trips_df.duplicated().sum()"
   ]
  },
  {
   "cell_type": "code",
   "execution_count": 25,
   "metadata": {},
   "outputs": [
    {
     "data": {
      "text/plain": [
       "dropoff_location_name    0\n",
       "average_trips            0\n",
       "dtype: int64"
      ]
     },
     "execution_count": 25,
     "metadata": {},
     "output_type": "execute_result"
    }
   ],
   "source": [
    "# Se verifica si hay valores ausentes \n",
    "trips_df.isna().sum()"
   ]
  },
  {
   "cell_type": "markdown",
   "metadata": {},
   "source": [
    "Conclusiones del dataset: 'trips_df' :\n",
    "El dataset no cuenta con valores duplicados ni ausentes, sin embargo fue necesario modificar el tipo de valor de la columna: 'average_trips' de float a entero. El dataset, tiene 94 datos, en dos columnas 'nombre de la ubicaciòn de destino' y 'promedio de viajes' Se puede inferir que las empresas de taxis realizan en promedio entre 1 a 10.727 viajes "
   ]
  },
  {
   "cell_type": "markdown",
   "metadata": {},
   "source": [
    "<div class=\"alert alert-block alert-danger\">\n",
    "\n",
    "<b>Comentario del revisor</b> <a class=\"tocSkip\"></a>\n",
    "\n",
    "Verifica si existen duplicados </div>\n",
    "\n",
    "<div class=\"alert alert-block alert-danger\">\n",
    "\n",
    "<b>Comentario del revisor</b> <a class=\"tocSkip\"></a>\n",
    "\n",
    "Deja una descripcion de lo observado en este dataset en cuanto a como se compone, si hay errores o no  (nulos, duplicados, etc) y que informacion nos provee. Este punto es muy importante porque resumiremos con un analisis en **markdown** sobre como esta compuesto el dataset y sus variables mas importante. </div>\n",
    "\n",
    "\n",
    "<div class=\"alert alert-block alert-success\">\n",
    "\n",
    "<b>Comentario del revisor #2</b> <a class=\"tocSkip\"></a>\n",
    "\n",
    "Corregidos ambos puntos.</div>"
   ]
  },
  {
   "cell_type": "code",
   "execution_count": 26,
   "metadata": {
    "scrolled": false
   },
   "outputs": [
    {
     "data": {
      "image/png": "[encoded data removed]",
      "text/plain": [
       "<Figure size 640x480 with 1 Axes>"
      ]
     },
     "metadata": {},
     "output_type": "display_data"
    }
   ],
   "source": [
    "# Valores atipicos \n",
    "plt.boxplot(trips_df['average_trips'])\n",
    "plt.show()"
   ]
  },
  {
   "cell_type": "markdown",
   "metadata": {},
   "source": [
    "En esta gràfica podemos observar que el promedio de los viajes hay valores atipicos, los cuales son normales ya que hay lugares en los que las empresas de taxis realizan otros recorridos en la ciudad"
   ]
  },
  {
   "cell_type": "markdown",
   "metadata": {},
   "source": [
    "### Top 10 de los destinos mas visitados de los taxistas"
   ]
  },
  {
   "cell_type": "code",
   "execution_count": 27,
   "metadata": {},
   "outputs": [
    {
     "data": {
      "text/html": [
       "<div>\n",
       "<style scoped>\n",
       "    .dataframe tbody tr th:only-of-type {\n",
       "        vertical-align: middle;\n",
       "    }\n",
       "\n",
       "    .dataframe tbody tr th {\n",
       "        vertical-align: top;\n",
       "    }\n",
       "\n",
       "    .dataframe thead th {\n",
       "        text-align: right;\n",
       "    }\n",
       "</style>\n",
       "<table border=\"1\" class=\"dataframe\">\n",
       "  <thead>\n",
       "    <tr style=\"text-align: right;\">\n",
       "      <th></th>\n",
       "      <th>dropoff_location_name</th>\n",
       "      <th>average_trips</th>\n",
       "    </tr>\n",
       "  </thead>\n",
       "  <tbody>\n",
       "    <tr>\n",
       "      <th>0</th>\n",
       "      <td>Loop</td>\n",
       "      <td>10727</td>\n",
       "    </tr>\n",
       "    <tr>\n",
       "      <th>1</th>\n",
       "      <td>River North</td>\n",
       "      <td>9523</td>\n",
       "    </tr>\n",
       "    <tr>\n",
       "      <th>2</th>\n",
       "      <td>Streeterville</td>\n",
       "      <td>6664</td>\n",
       "    </tr>\n",
       "    <tr>\n",
       "      <th>3</th>\n",
       "      <td>West Loop</td>\n",
       "      <td>5163</td>\n",
       "    </tr>\n",
       "    <tr>\n",
       "      <th>4</th>\n",
       "      <td>O'Hare</td>\n",
       "      <td>2546</td>\n",
       "    </tr>\n",
       "    <tr>\n",
       "      <th>5</th>\n",
       "      <td>Lake View</td>\n",
       "      <td>2420</td>\n",
       "    </tr>\n",
       "    <tr>\n",
       "      <th>6</th>\n",
       "      <td>Grant Park</td>\n",
       "      <td>2068</td>\n",
       "    </tr>\n",
       "    <tr>\n",
       "      <th>7</th>\n",
       "      <td>Museum Campus</td>\n",
       "      <td>1510</td>\n",
       "    </tr>\n",
       "    <tr>\n",
       "      <th>8</th>\n",
       "      <td>Gold Coast</td>\n",
       "      <td>1364</td>\n",
       "    </tr>\n",
       "    <tr>\n",
       "      <th>9</th>\n",
       "      <td>Sheffield &amp; DePaul</td>\n",
       "      <td>1259</td>\n",
       "    </tr>\n",
       "  </tbody>\n",
       "</table>\n",
       "</div>"
      ],
      "text/plain": [
       "  dropoff_location_name  average_trips\n",
       "0                  Loop          10727\n",
       "1           River North           9523\n",
       "2         Streeterville           6664\n",
       "3             West Loop           5163\n",
       "4                O'Hare           2546\n",
       "5             Lake View           2420\n",
       "6            Grant Park           2068\n",
       "7         Museum Campus           1510\n",
       "8            Gold Coast           1364\n",
       "9    Sheffield & DePaul           1259"
      ]
     },
     "execution_count": 27,
     "metadata": {},
     "output_type": "execute_result"
    }
   ],
   "source": [
    "top_10_destinos = trips_df.sort_values('average_trips', ascending=False).head(10)\n",
    "top_10_destinos"
   ]
  },
  {
   "cell_type": "code",
   "execution_count": 28,
   "metadata": {},
   "outputs": [],
   "source": [
    "#colocamos los indices de los destinos"
   ]
  },
  {
   "cell_type": "code",
   "execution_count": 29,
   "metadata": {},
   "outputs": [],
   "source": [
    "top_10_destinos.set_index('dropoff_location_name', inplace=True)"
   ]
  },
  {
   "cell_type": "code",
   "execution_count": 30,
   "metadata": {},
   "outputs": [
    {
     "data": {
      "image/png": "[encoded data removed]",
      "text/plain": [
       "<Figure size 640x480 with 1 Axes>"
      ]
     },
     "metadata": {},
     "output_type": "display_data"
    }
   ],
   "source": [
    "top_10_destinos.plot(kind='barh', color='orange')\n",
    "plt.title('Número promedio de viajes por dirección de salida')\n",
    "plt.show()"
   ]
  },
  {
   "cell_type": "markdown",
   "metadata": {},
   "source": [
    "En la grafica se puede identificar que el sitio màs visitado en Chicago por los taxistas es Loop, el cual es un àrea muy visitada por los turistas y personas que trabajan en finazas, ya que en èsta parte se encuentra el distrito financiero, la sede del gobierno y varias tiendas y sitios de interes. "
   ]
  },
  {
   "cell_type": "markdown",
   "metadata": {},
   "source": [
    "<div class=\"alert alert-block alert-success\">\n",
    "\n",
    "<b>Comentario del revisor</b> <a class=\"tocSkip\"></a>\n",
    "\n",
    "Muy bien utilizado el boxplot, perfectos ambo graficos y sus conclusiones </div>\n",
    "\n"
   ]
  },
  {
   "cell_type": "markdown",
   "metadata": {},
   "source": [
    "## Analisis del Dataframe: Viajes desde el Loop hasta O´hare"
   ]
  },
  {
   "cell_type": "code",
   "execution_count": 31,
   "metadata": {},
   "outputs": [
    {
     "name": "stdout",
     "output_type": "stream",
     "text": [
      "<class 'pandas.core.frame.DataFrame'>\n",
      "RangeIndex: 1068 entries, 0 to 1067\n",
      "Data columns (total 3 columns):\n",
      " #   Column              Non-Null Count  Dtype  \n",
      "---  ------              --------------  -----  \n",
      " 0   start_ts            1068 non-null   object \n",
      " 1   weather_conditions  1068 non-null   object \n",
      " 2   duration_seconds    1068 non-null   float64\n",
      "dtypes: float64(1), object(2)\n",
      "memory usage: 25.2+ KB\n"
     ]
    }
   ],
   "source": [
    "# Revisar la información de los dataframe\n",
    "data_viaje_loop_ohare.info()"
   ]
  },
  {
   "cell_type": "code",
   "execution_count": 32,
   "metadata": {},
   "outputs": [
    {
     "data": {
      "text/html": [
       "<div>\n",
       "<style scoped>\n",
       "    .dataframe tbody tr th:only-of-type {\n",
       "        vertical-align: middle;\n",
       "    }\n",
       "\n",
       "    .dataframe tbody tr th {\n",
       "        vertical-align: top;\n",
       "    }\n",
       "\n",
       "    .dataframe thead th {\n",
       "        text-align: right;\n",
       "    }\n",
       "</style>\n",
       "<table border=\"1\" class=\"dataframe\">\n",
       "  <thead>\n",
       "    <tr style=\"text-align: right;\">\n",
       "      <th></th>\n",
       "      <th>duration_seconds</th>\n",
       "    </tr>\n",
       "  </thead>\n",
       "  <tbody>\n",
       "    <tr>\n",
       "      <th>count</th>\n",
       "      <td>1068.000000</td>\n",
       "    </tr>\n",
       "    <tr>\n",
       "      <th>mean</th>\n",
       "      <td>2071.731273</td>\n",
       "    </tr>\n",
       "    <tr>\n",
       "      <th>std</th>\n",
       "      <td>769.461125</td>\n",
       "    </tr>\n",
       "    <tr>\n",
       "      <th>min</th>\n",
       "      <td>0.000000</td>\n",
       "    </tr>\n",
       "    <tr>\n",
       "      <th>25%</th>\n",
       "      <td>1438.250000</td>\n",
       "    </tr>\n",
       "    <tr>\n",
       "      <th>50%</th>\n",
       "      <td>1980.000000</td>\n",
       "    </tr>\n",
       "    <tr>\n",
       "      <th>75%</th>\n",
       "      <td>2580.000000</td>\n",
       "    </tr>\n",
       "    <tr>\n",
       "      <th>max</th>\n",
       "      <td>7440.000000</td>\n",
       "    </tr>\n",
       "  </tbody>\n",
       "</table>\n",
       "</div>"
      ],
      "text/plain": [
       "       duration_seconds\n",
       "count       1068.000000\n",
       "mean        2071.731273\n",
       "std          769.461125\n",
       "min            0.000000\n",
       "25%         1438.250000\n",
       "50%         1980.000000\n",
       "75%         2580.000000\n",
       "max         7440.000000"
      ]
     },
     "execution_count": 32,
     "metadata": {},
     "output_type": "execute_result"
    }
   ],
   "source": [
    "# Con describe, obtenemos los valos estadisticos \n",
    "\n",
    "data_viaje_loop_ohare.describe()"
   ]
  },
  {
   "cell_type": "code",
   "execution_count": 33,
   "metadata": {},
   "outputs": [
    {
     "data": {
      "text/html": [
       "<div>\n",
       "<style scoped>\n",
       "    .dataframe tbody tr th:only-of-type {\n",
       "        vertical-align: middle;\n",
       "    }\n",
       "\n",
       "    .dataframe tbody tr th {\n",
       "        vertical-align: top;\n",
       "    }\n",
       "\n",
       "    .dataframe thead th {\n",
       "        text-align: right;\n",
       "    }\n",
       "</style>\n",
       "<table border=\"1\" class=\"dataframe\">\n",
       "  <thead>\n",
       "    <tr style=\"text-align: right;\">\n",
       "      <th></th>\n",
       "      <th>start_ts</th>\n",
       "      <th>weather_conditions</th>\n",
       "      <th>duration_seconds</th>\n",
       "    </tr>\n",
       "  </thead>\n",
       "  <tbody>\n",
       "    <tr>\n",
       "      <th>0</th>\n",
       "      <td>2017-11-25 16:00:00</td>\n",
       "      <td>Good</td>\n",
       "      <td>2410.0</td>\n",
       "    </tr>\n",
       "    <tr>\n",
       "      <th>1</th>\n",
       "      <td>2017-11-25 14:00:00</td>\n",
       "      <td>Good</td>\n",
       "      <td>1920.0</td>\n",
       "    </tr>\n",
       "    <tr>\n",
       "      <th>2</th>\n",
       "      <td>2017-11-25 12:00:00</td>\n",
       "      <td>Good</td>\n",
       "      <td>1543.0</td>\n",
       "    </tr>\n",
       "    <tr>\n",
       "      <th>3</th>\n",
       "      <td>2017-11-04 10:00:00</td>\n",
       "      <td>Good</td>\n",
       "      <td>2512.0</td>\n",
       "    </tr>\n",
       "    <tr>\n",
       "      <th>4</th>\n",
       "      <td>2017-11-11 07:00:00</td>\n",
       "      <td>Good</td>\n",
       "      <td>1440.0</td>\n",
       "    </tr>\n",
       "  </tbody>\n",
       "</table>\n",
       "</div>"
      ],
      "text/plain": [
       "              start_ts weather_conditions  duration_seconds\n",
       "0  2017-11-25 16:00:00               Good            2410.0\n",
       "1  2017-11-25 14:00:00               Good            1920.0\n",
       "2  2017-11-25 12:00:00               Good            1543.0\n",
       "3  2017-11-04 10:00:00               Good            2512.0\n",
       "4  2017-11-11 07:00:00               Good            1440.0"
      ]
     },
     "execution_count": 33,
     "metadata": {},
     "output_type": "execute_result"
    }
   ],
   "source": [
    "# Revisamos las primeras filas del dataframe\n",
    "data_viaje_loop_ohare.head()"
   ]
  },
  {
   "cell_type": "code",
   "execution_count": 34,
   "metadata": {},
   "outputs": [
    {
     "data": {
      "text/plain": [
       "197"
      ]
     },
     "execution_count": 34,
     "metadata": {},
     "output_type": "execute_result"
    }
   ],
   "source": [
    "# Se analiza si hay duplicados en el dataframe\n",
    "\n",
    "data_viaje_loop_ohare.duplicated().sum()"
   ]
  },
  {
   "cell_type": "code",
   "execution_count": 35,
   "metadata": {},
   "outputs": [
    {
     "data": {
      "text/plain": [
       "start_ts              0\n",
       "weather_conditions    0\n",
       "duration_seconds      0\n",
       "dtype: int64"
      ]
     },
     "execution_count": 35,
     "metadata": {},
     "output_type": "execute_result"
    }
   ],
   "source": [
    "# Se analiza si hay datos ausentes en el dataframe\n",
    "\n",
    "data_viaje_loop_ohare.isna().sum()"
   ]
  },
  {
   "cell_type": "markdown",
   "metadata": {},
   "source": [
    "En conclusión el dataframe 'Viajes desde el Loop hasta O´hare' cuenta con 1.068 datos, en tres columnas: \n",
    "start_ts: fecha y hora de recogida\n",
    "weather_conditions: condiciones climáticas en el momento en el que comenzó el viaje (Buenas o malas)\n",
    "duration_seconds: duración del viaje en segundos.\n",
    "No hay valores ausentes pero si duplicados, ya que pueden haber las mismas fechas y horas de recogida y condiciones del clima."
   ]
  },
  {
   "cell_type": "markdown",
   "metadata": {},
   "source": [
    "##  Prueba de  Hipotesis "
   ]
  },
  {
   "cell_type": "markdown",
   "metadata": {},
   "source": [
    "<div class=\"alert alert-block alert-danger\">\n",
    "\n",
    "<b>Comentario del revisor</b> <a class=\"tocSkip\"></a>\n",
    "\n",
    "Carga este dataset en la celda correspondiente (La del inicio). Esto es considerado una  buena practica ya que siempre queremos tener al principio todo cargado por si hay que hacer una modificacion en el futuro.</div>\n",
    "\n",
    "\n",
    "<div class=\"alert alert-block alert-success\">\n",
    "\n",
    "<b>Comentario del revisor #2</b> <a class=\"tocSkip\"></a>\n",
    "\n",
    "Corregido.</div>"
   ]
  },
  {
   "cell_type": "markdown",
   "metadata": {},
   "source": [
    "<div class=\"alert alert-block alert-danger\">\n",
    "\n",
    "<b>Comentario del revisor</b> <a class=\"tocSkip\"></a>\n",
    "\n",
    "Explora las primeras filas con el head()</div>\n",
    "\n",
    "\n",
    "<div class=\"alert alert-block alert-danger\">\n",
    "\n",
    "<b>Comentario del revisor</b> <a class=\"tocSkip\"></a>\n",
    "\n",
    "Verifica si existen duplicados </div>\n",
    "\n",
    "<div class=\"alert alert-block alert-danger\">\n",
    "\n",
    "<b>Comentario del revisor</b> <a class=\"tocSkip\"></a>\n",
    "\n",
    "Deja una descripcion de lo observado en este dataset en cuanto a como se compone, si hay errores o no  (nulos, duplicados, etc) y que informacion nos provee. Este punto es muy importante porque resumiremos con un analisis en **markdown** sobre como esta compuesto el dataset y sus variables mas importante. </div>\n",
    "\n",
    "\n",
    "<div class=\"alert alert-block alert-success\">\n",
    "\n",
    "<b>Comentario del revisor #2</b> <a class=\"tocSkip\"></a>\n",
    "\n",
    "Corregido, buenas conclusiones.</div>"
   ]
  },
  {
   "cell_type": "code",
   "execution_count": 36,
   "metadata": {},
   "outputs": [
    {
     "data": {
      "text/plain": [
       "Good    888\n",
       "Bad     180\n",
       "Name: weather_conditions, dtype: int64"
      ]
     },
     "execution_count": 36,
     "metadata": {},
     "output_type": "execute_result"
    }
   ],
   "source": [
    "# Condiciones del clima en Chicago\n",
    "data_viaje_loop_ohare['weather_conditions'].value_counts()"
   ]
  },
  {
   "cell_type": "code",
   "execution_count": 37,
   "metadata": {},
   "outputs": [
    {
     "data": {
      "text/plain": [
       "0       2410.0\n",
       "1       1920.0\n",
       "2       1543.0\n",
       "3       2512.0\n",
       "4       1440.0\n",
       "         ...  \n",
       "1063       0.0\n",
       "1064    1318.0\n",
       "1065    2100.0\n",
       "1066    1380.0\n",
       "1067    2834.0\n",
       "Name: duration_seconds, Length: 1068, dtype: float64"
      ]
     },
     "execution_count": 37,
     "metadata": {},
     "output_type": "execute_result"
    }
   ],
   "source": [
    "#Duraciòn en segundos de los viajes\n",
    "data_viaje_loop_ohare['duration_seconds']"
   ]
  },
  {
   "cell_type": "code",
   "execution_count": 38,
   "metadata": {},
   "outputs": [
    {
     "data": {
      "text/plain": [
       "<AxesSubplot:xlabel='duration_seconds', ylabel='weather_conditions'>"
      ]
     },
     "execution_count": 38,
     "metadata": {},
     "output_type": "execute_result"
    },
    {
     "data": {
      "image/png": "[encoded data removed]",
      "text/plain": [
       "<Figure size 640x480 with 1 Axes>"
      ]
     },
     "metadata": {},
     "output_type": "display_data"
    }
   ],
   "source": [
    "sns.boxplot(x='duration_seconds', y='weather_conditions', data=data_viaje_loop_ohare)"
   ]
  },
  {
   "cell_type": "markdown",
   "metadata": {},
   "source": [
    "Esta gráfica nos indica que cuando la condicion es buena el promedio el promedio de la duración en segundos es mas bajo que cuando la condicion es mala y los segundos aumentan en la condicion mala. Es decir que cuando llueve les lleva más tiempo ir en la ruta deseada. \n",
    "Los valores atipicos es necesario retirarlos ya que influiran en análisis posteriores"
   ]
  },
  {
   "cell_type": "code",
   "execution_count": 39,
   "metadata": {},
   "outputs": [],
   "source": [
    "#Quitar los valores atipicos outliers "
   ]
  },
  {
   "cell_type": "code",
   "execution_count": 40,
   "metadata": {},
   "outputs": [
    {
     "data": {
      "text/plain": [
       "<AxesSubplot:xlabel='duration_seconds'>"
      ]
     },
     "execution_count": 40,
     "metadata": {},
     "output_type": "execute_result"
    },
    {
     "data": {
      "image/png": "[encoded data removed]",
      "text/plain": [
       "<Figure size 640x480 with 1 Axes>"
      ]
     },
     "metadata": {},
     "output_type": "display_data"
    }
   ],
   "source": [
    "sns.boxplot(x='duration_seconds', data=data_viaje_loop_ohare)"
   ]
  },
  {
   "cell_type": "code",
   "execution_count": 41,
   "metadata": {},
   "outputs": [],
   "source": [
    "Q1 = data_viaje_loop_ohare['duration_seconds'].quantile(0.25)"
   ]
  },
  {
   "cell_type": "code",
   "execution_count": 42,
   "metadata": {},
   "outputs": [],
   "source": [
    "Q3 = data_viaje_loop_ohare['duration_seconds'].quantile(0.75)"
   ]
  },
  {
   "cell_type": "code",
   "execution_count": 43,
   "metadata": {},
   "outputs": [],
   "source": [
    "IQR = Q3 - Q1"
   ]
  },
  {
   "cell_type": "code",
   "execution_count": 44,
   "metadata": {},
   "outputs": [
    {
     "data": {
      "text/plain": [
       "4292.625"
      ]
     },
     "execution_count": 44,
     "metadata": {},
     "output_type": "execute_result"
    }
   ],
   "source": [
    "limite_superior = Q3 + (1.5*IQR)\n",
    "limite_superior"
   ]
  },
  {
   "cell_type": "code",
   "execution_count": 45,
   "metadata": {},
   "outputs": [],
   "source": [
    "data_hipotesis = data_viaje_loop_ohare.query('duration_seconds <= @limite_superior')"
   ]
  },
  {
   "cell_type": "code",
   "execution_count": 46,
   "metadata": {},
   "outputs": [
    {
     "data": {
      "text/plain": [
       "<AxesSubplot:xlabel='duration_seconds'>"
      ]
     },
     "execution_count": 46,
     "metadata": {},
     "output_type": "execute_result"
    },
    {
     "data": {
      "image/png": "[encoded data removed]",
      "text/plain": [
       "<Figure size 640x480 with 1 Axes>"
      ]
     },
     "metadata": {},
     "output_type": "display_data"
    }
   ],
   "source": [
    "sns.boxplot(x='duration_seconds', data=data_hipotesis)"
   ]
  },
  {
   "cell_type": "code",
   "execution_count": 47,
   "metadata": {},
   "outputs": [
    {
     "data": {
      "text/plain": [
       "<AxesSubplot:xlabel='duration_seconds', ylabel='weather_conditions'>"
      ]
     },
     "execution_count": 47,
     "metadata": {},
     "output_type": "execute_result"
    },
    {
     "data": {
      "image/png": "[encoded data removed]",
      "text/plain": [
       "<Figure size 640x480 with 1 Axes>"
      ]
     },
     "metadata": {},
     "output_type": "display_data"
    }
   ],
   "source": [
    "sns.boxplot(x='duration_seconds', y ='weather_conditions', data=data_hipotesis )"
   ]
  },
  {
   "cell_type": "markdown",
   "metadata": {},
   "source": [
    "<div class=\"alert alert-block alert-success\">\n",
    "\n",
    "<b>Comentario del revisor</b> <a class=\"tocSkip\"></a>\n",
    "\n",
    "Excelente eliminando los outliers para que la prueba estadistica no tenga ningun error. </div>\n",
    "\n"
   ]
  },
  {
   "cell_type": "markdown",
   "metadata": {},
   "source": [
    "Podemos observar en la gràfica las condiciones buenas y malas, sin outliers para poder realizar la prueba de hipotesis. "
   ]
  },
  {
   "cell_type": "markdown",
   "metadata": {},
   "source": [
    "### Probar la siguiente hipótesis con t-test"
   ]
  },
  {
   "cell_type": "markdown",
   "metadata": {},
   "source": [
    "\n",
    "Hipotesis nula Ho: La duración promedio de los viajes desde el Loop hasta el Aeropuerto Internacional O'Hare es igual en clima malo y bueno\"\n",
    "\n",
    "Hipotesis alternativa H1: \"La duración promedio de los viajes desde el Loop hasta el Aeropuerto Internacional O'Hare es diferente con un clima malo\"."
   ]
  },
  {
   "cell_type": "code",
   "execution_count": 48,
   "metadata": {},
   "outputs": [
    {
     "data": {
      "text/plain": [
       "1.2430038032744411e-13"
      ]
     },
     "execution_count": 48,
     "metadata": {},
     "output_type": "execute_result"
    }
   ],
   "source": [
    "from scipy import stats as st \n",
    "alpha=0.05\n",
    "sample = data_hipotesis.query('weather_conditions == \"Good\"')\n",
    "rain_sample = data_hipotesis.query('weather_conditions == \"Bad\"')\n",
    "\n",
    "results = st.ttest_ind(sample.duration_seconds, rain_sample.duration_seconds)\n",
    "\n",
    "results.pvalue"
   ]
  },
  {
   "cell_type": "markdown",
   "metadata": {},
   "source": [
    "<div class=\"alert alert-block alert-danger\">\n",
    "<b>Comentario del revisor</b> <a class=\"tocSkip\"></a>\n",
    "\n",
    "El parametro equal_var es muy importante para este tipo de pruebas y en este caso no lo utilizas.\n",
    "\n",
    "Observamos dos opciones, una, si las varianzas para cada conjunto son diferentes (False). Si fueran iguales (True), puede que el resultado cambie, ya que se calcula de forma diferente. Mas que nada cuando la distribucion de las muestras son desiguales (como en este caso).\n",
    "\n",
    "Por esto es importante, cuando realizamos esta prueba (t student). Confirmar si las varianzas son iguales o no para ambos conjuntos. Para esto se realizan **pruebas estadisticas** (Por ejemplo, **Levene**) para identificar si son iguales o no las varianzas.\n",
    "\n",
    "Al realizarla ajusta el parametro si fuera necesario y si cambian los resultados modifica la conclusion.</div>\n",
    "\n",
    "\n",
    "<div class=\"alert alert-block alert-success\">\n",
    "\n",
    "<b>Comentario del revisor #2</b> <a class=\"tocSkip\"></a>\n",
    "\n",
    "Corregido, muy buen manejo de Levene. Siguiendo las buenas practicas deberias importar scipy al comienzo (en la celda correspondiente).</div> "
   ]
  },
  {
   "cell_type": "markdown",
   "metadata": {},
   "source": [
    "Para la realizaciòn de la hipotesis, se realizò el test ttest, el cual compara los promedios de dos variables para poder rechazar o aceptar la hipotesis nula. Con este valor de 1.24 significa que no rechazamos la hipotesis nula, ya que es mayor a nuestro nivel de significancia. Por lo tanto, se comprueba que no hay una diferencia significativa en las duraciones promedio entre ambos climas estadisticamente. "
   ]
  },
  {
   "cell_type": "markdown",
   "metadata": {},
   "source": [
    "### Probar la siguiente hipótesis con la prueba Levene"
   ]
  },
  {
   "cell_type": "code",
   "execution_count": 49,
   "metadata": {},
   "outputs": [
    {
     "data": {
      "text/plain": [
       "0.6196707782686355"
      ]
     },
     "execution_count": 49,
     "metadata": {},
     "output_type": "execute_result"
    }
   ],
   "source": [
    "results_levene = st.levene(sample.duration_seconds, rain_sample.duration_seconds)\n",
    "results_levene.pvalue"
   ]
  },
  {
   "cell_type": "markdown",
   "metadata": {},
   "source": [
    "El test de Levene es una prueba complementaria que compara las varianzas, es decir que sean iguales o diferentes. Con este resultado de 0.619 establece que las varianzas de las dos muestras son iguales, ya que 0.619 es mayor al nivel de significancia de 0.005. Es decir no podemos rechazar la hipotesis nula."
   ]
  },
  {
   "cell_type": "markdown",
   "metadata": {},
   "source": [
    "## Conclusiones"
   ]
  },
  {
   "cell_type": "markdown",
   "metadata": {},
   "source": [
    "Se concluye que de las 64 compañias de taxis en Chicago, la compañia lider en el mercado de transporte de pasajeros es Flash Cab con 19.558 viajes realizados. El destino donde se finalizan los viajes con mayor demanda es Loop de Chicago por ser un sitio turistico y de negocios de la ciudad. Ademas, se analizo el clima de la ciudad de Chicago el cual se caracteriza por ser muy cambiante y con vientos muy fuertes, lo cual se realizo la prueba t-test y prueba Levene, en donde se identifico que estadisticamente el clima no impacta negativamente en los viajes que realizan los taxistas en la ciudad. "
   ]
  },
  {
   "cell_type": "markdown",
   "metadata": {},
   "source": [
    "<div class=\"alert alert-block alert-success\">\n",
    "<b>Comentario del revisor</b> <a class=\"tocSkip\"></a>\n",
    "\n",
    "Muy buenas conclusiones.</div>"
   ]
  },
  {
   "cell_type": "code",
   "execution_count": null,
   "metadata": {},
   "outputs": [],
   "source": []
  }
 ],
 "metadata": {
  "ExecuteTimeLog": [
   {
    "duration": 2264,
    "start_time": "2024-10-25T21:07:59.964Z"
   },
   {
    "duration": 566,
    "start_time": "2024-10-25T21:10:14.857Z"
   },
   {
    "duration": 10,
    "start_time": "2024-10-25T21:11:00.000Z"
   },
   {
    "duration": 9,
    "start_time": "2024-10-25T21:12:36.685Z"
   },
   {
    "duration": 9,
    "start_time": "2024-10-25T21:13:06.771Z"
   },
   {
    "duration": 9,
    "start_time": "2024-10-25T21:13:26.741Z"
   },
   {
    "duration": 9,
    "start_time": "2024-10-25T21:13:54.214Z"
   },
   {
    "duration": 8,
    "start_time": "2024-10-25T21:15:43.672Z"
   },
   {
    "duration": 7,
    "start_time": "2024-10-25T21:15:56.989Z"
   },
   {
    "duration": 7,
    "start_time": "2024-10-25T21:17:21.261Z"
   },
   {
    "duration": 2,
    "start_time": "2024-10-25T21:22:07.252Z"
   },
   {
    "duration": 3,
    "start_time": "2024-10-25T21:22:48.195Z"
   },
   {
    "duration": 1088,
    "start_time": "2024-10-25T21:23:27.872Z"
   },
   {
    "duration": 8,
    "start_time": "2024-10-25T21:23:45.145Z"
   },
   {
    "duration": 3,
    "start_time": "2024-10-25T21:23:51.308Z"
   },
   {
    "duration": 1107,
    "start_time": "2024-10-25T21:26:40.263Z"
   },
   {
    "duration": 1227,
    "start_time": "2024-10-25T21:33:49.936Z"
   },
   {
    "duration": 1527,
    "start_time": "2024-10-25T21:34:38.836Z"
   },
   {
    "duration": 1182,
    "start_time": "2024-10-25T21:37:08.799Z"
   },
   {
    "duration": 2,
    "start_time": "2024-10-25T21:37:33.491Z"
   },
   {
    "duration": 6,
    "start_time": "2024-10-25T21:37:33.498Z"
   },
   {
    "duration": 5,
    "start_time": "2024-10-25T21:37:33.506Z"
   },
   {
    "duration": 8,
    "start_time": "2024-10-25T21:37:33.513Z"
   },
   {
    "duration": 6,
    "start_time": "2024-10-25T21:37:33.523Z"
   },
   {
    "duration": 8,
    "start_time": "2024-10-25T21:37:33.532Z"
   },
   {
    "duration": 7,
    "start_time": "2024-10-25T21:37:33.543Z"
   },
   {
    "duration": 2,
    "start_time": "2024-10-25T21:37:33.552Z"
   },
   {
    "duration": 3,
    "start_time": "2024-10-25T21:37:33.556Z"
   },
   {
    "duration": 1223,
    "start_time": "2024-10-25T21:37:33.561Z"
   },
   {
    "duration": 234,
    "start_time": "2024-10-25T21:40:20.071Z"
   },
   {
    "duration": 2,
    "start_time": "2024-10-25T21:41:09.678Z"
   },
   {
    "duration": 9,
    "start_time": "2024-10-25T21:41:18.334Z"
   },
   {
    "duration": 2,
    "start_time": "2024-10-25T21:41:55.646Z"
   },
   {
    "duration": 16,
    "start_time": "2024-10-25T21:43:03.755Z"
   },
   {
    "duration": 489,
    "start_time": "2024-10-25T21:43:20.311Z"
   },
   {
    "duration": 3,
    "start_time": "2024-10-25T21:43:35.650Z"
   },
   {
    "duration": 13,
    "start_time": "2024-10-25T21:43:44.010Z"
   },
   {
    "duration": 8,
    "start_time": "2024-10-25T21:43:50.094Z"
   },
   {
    "duration": 10,
    "start_time": "2024-10-25T21:46:37.520Z"
   },
   {
    "duration": 78,
    "start_time": "2024-10-25T21:48:31.525Z"
   },
   {
    "duration": 159,
    "start_time": "2024-10-25T21:48:57.102Z"
   },
   {
    "duration": 73,
    "start_time": "2024-10-25T21:49:33.964Z"
   },
   {
    "duration": 73,
    "start_time": "2024-10-25T21:50:24.518Z"
   },
   {
    "duration": 6,
    "start_time": "2024-10-25T21:51:22.603Z"
   },
   {
    "duration": 3,
    "start_time": "2024-10-25T21:51:37.777Z"
   },
   {
    "duration": 3,
    "start_time": "2024-10-25T21:52:02.878Z"
   },
   {
    "duration": 138,
    "start_time": "2024-10-25T21:53:20.891Z"
   },
   {
    "duration": 10,
    "start_time": "2024-10-25T22:03:13.562Z"
   },
   {
    "duration": 9,
    "start_time": "2024-10-25T22:03:26.564Z"
   },
   {
    "duration": 10,
    "start_time": "2024-10-25T22:04:09.412Z"
   },
   {
    "duration": 374,
    "start_time": "2024-10-25T22:05:21.564Z"
   },
   {
    "duration": 45,
    "start_time": "2024-10-25T22:06:22.891Z"
   },
   {
    "duration": 6,
    "start_time": "2024-10-25T22:10:34.487Z"
   },
   {
    "duration": 13,
    "start_time": "2024-10-25T22:11:35.381Z"
   },
   {
    "duration": 14,
    "start_time": "2024-10-25T22:12:26.134Z"
   },
   {
    "duration": 7,
    "start_time": "2024-10-25T22:12:51.128Z"
   },
   {
    "duration": 9,
    "start_time": "2024-10-25T22:12:53.874Z"
   },
   {
    "duration": 10,
    "start_time": "2024-10-25T22:12:58.681Z"
   },
   {
    "duration": 5,
    "start_time": "2024-10-25T22:13:01.824Z"
   },
   {
    "duration": 5,
    "start_time": "2024-10-25T22:13:05.194Z"
   },
   {
    "duration": 98,
    "start_time": "2024-10-25T22:13:09.407Z"
   },
   {
    "duration": 2,
    "start_time": "2024-10-25T22:15:41.053Z"
   },
   {
    "duration": 2,
    "start_time": "2024-10-25T22:15:48.711Z"
   },
   {
    "duration": 2,
    "start_time": "2024-10-25T22:17:34.716Z"
   },
   {
    "duration": 81,
    "start_time": "2024-10-25T22:20:16.670Z"
   },
   {
    "duration": 3,
    "start_time": "2024-10-25T22:21:18.430Z"
   },
   {
    "duration": 4,
    "start_time": "2024-10-25T22:21:37.769Z"
   },
   {
    "duration": 2,
    "start_time": "2024-10-25T22:21:49.594Z"
   },
   {
    "duration": 2,
    "start_time": "2024-10-25T22:22:19.861Z"
   },
   {
    "duration": 2,
    "start_time": "2024-10-25T22:22:34.825Z"
   },
   {
    "duration": 14,
    "start_time": "2024-10-25T22:22:43.468Z"
   },
   {
    "duration": 5,
    "start_time": "2024-10-25T22:22:51.577Z"
   },
   {
    "duration": 3,
    "start_time": "2024-10-25T22:25:03.745Z"
   },
   {
    "duration": 4,
    "start_time": "2024-10-25T22:25:49.045Z"
   },
   {
    "duration": 2634,
    "start_time": "2024-10-25T23:39:56.047Z"
   },
   {
    "duration": 8,
    "start_time": "2024-10-25T23:39:58.684Z"
   },
   {
    "duration": 6,
    "start_time": "2024-10-25T23:39:58.694Z"
   },
   {
    "duration": 9,
    "start_time": "2024-10-25T23:39:58.702Z"
   },
   {
    "duration": 19,
    "start_time": "2024-10-25T23:39:58.714Z"
   },
   {
    "duration": 9,
    "start_time": "2024-10-25T23:39:58.735Z"
   },
   {
    "duration": 6,
    "start_time": "2024-10-25T23:39:58.745Z"
   },
   {
    "duration": 2,
    "start_time": "2024-10-25T23:39:58.753Z"
   },
   {
    "duration": 3,
    "start_time": "2024-10-25T23:39:58.757Z"
   },
   {
    "duration": 1239,
    "start_time": "2024-10-25T23:39:58.761Z"
   },
   {
    "duration": 3,
    "start_time": "2024-10-25T23:40:00.001Z"
   },
   {
    "duration": 9,
    "start_time": "2024-10-25T23:40:00.005Z"
   },
   {
    "duration": 3,
    "start_time": "2024-10-25T23:40:00.015Z"
   },
   {
    "duration": 12,
    "start_time": "2024-10-25T23:40:00.021Z"
   },
   {
    "duration": 8,
    "start_time": "2024-10-25T23:40:00.034Z"
   },
   {
    "duration": 8,
    "start_time": "2024-10-25T23:40:00.044Z"
   },
   {
    "duration": 93,
    "start_time": "2024-10-25T23:40:00.054Z"
   },
   {
    "duration": 6,
    "start_time": "2024-10-25T23:40:00.149Z"
   },
   {
    "duration": 2,
    "start_time": "2024-10-25T23:40:00.157Z"
   },
   {
    "duration": 3,
    "start_time": "2024-10-25T23:40:00.161Z"
   },
   {
    "duration": 157,
    "start_time": "2024-10-25T23:40:00.165Z"
   },
   {
    "duration": 10,
    "start_time": "2024-10-25T23:40:00.324Z"
   },
   {
    "duration": 8,
    "start_time": "2024-10-25T23:40:00.335Z"
   },
   {
    "duration": 9,
    "start_time": "2024-10-25T23:40:00.344Z"
   },
   {
    "duration": 4,
    "start_time": "2024-10-25T23:40:00.354Z"
   },
   {
    "duration": 122,
    "start_time": "2024-10-25T23:40:00.361Z"
   },
   {
    "duration": 2,
    "start_time": "2024-10-25T23:40:00.486Z"
   },
   {
    "duration": 95,
    "start_time": "2024-10-25T23:40:00.490Z"
   },
   {
    "duration": 4,
    "start_time": "2024-10-25T23:40:00.587Z"
   },
   {
    "duration": 3,
    "start_time": "2024-10-25T23:40:00.593Z"
   },
   {
    "duration": 3,
    "start_time": "2024-10-25T23:40:00.598Z"
   },
   {
    "duration": 4,
    "start_time": "2024-10-25T23:40:00.602Z"
   },
   {
    "duration": 24,
    "start_time": "2024-10-25T23:40:00.608Z"
   },
   {
    "duration": 3,
    "start_time": "2024-10-25T23:46:46.044Z"
   },
   {
    "duration": 3,
    "start_time": "2024-10-25T23:47:13.673Z"
   },
   {
    "duration": 12,
    "start_time": "2024-10-25T23:47:50.680Z"
   },
   {
    "duration": 133,
    "start_time": "2024-10-25T23:48:28.044Z"
   },
   {
    "duration": 87,
    "start_time": "2024-10-25T23:49:55.846Z"
   },
   {
    "duration": 9,
    "start_time": "2024-10-25T23:56:38.732Z"
   },
   {
    "duration": 5,
    "start_time": "2024-10-25T23:59:16.739Z"
   },
   {
    "duration": 6,
    "start_time": "2024-10-26T00:34:08.046Z"
   },
   {
    "duration": 7,
    "start_time": "2024-10-26T00:55:56.668Z"
   },
   {
    "duration": 5,
    "start_time": "2024-10-26T00:56:36.127Z"
   },
   {
    "duration": 6,
    "start_time": "2024-10-26T00:57:18.201Z"
   },
   {
    "duration": 853,
    "start_time": "2024-10-26T00:57:20.513Z"
   },
   {
    "duration": 2,
    "start_time": "2024-10-26T00:57:27.296Z"
   },
   {
    "duration": 7,
    "start_time": "2024-10-26T00:57:27.302Z"
   },
   {
    "duration": 4,
    "start_time": "2024-10-26T00:57:27.311Z"
   },
   {
    "duration": 9,
    "start_time": "2024-10-26T00:57:27.316Z"
   },
   {
    "duration": 5,
    "start_time": "2024-10-26T00:57:27.326Z"
   },
   {
    "duration": 8,
    "start_time": "2024-10-26T00:57:27.334Z"
   },
   {
    "duration": 7,
    "start_time": "2024-10-26T00:57:27.345Z"
   },
   {
    "duration": 3,
    "start_time": "2024-10-26T00:57:27.353Z"
   },
   {
    "duration": 3,
    "start_time": "2024-10-26T00:57:27.357Z"
   },
   {
    "duration": 1211,
    "start_time": "2024-10-26T00:57:27.362Z"
   },
   {
    "duration": 3,
    "start_time": "2024-10-26T00:57:28.575Z"
   },
   {
    "duration": 8,
    "start_time": "2024-10-26T00:57:28.580Z"
   },
   {
    "duration": 2,
    "start_time": "2024-10-26T00:57:28.589Z"
   },
   {
    "duration": 4,
    "start_time": "2024-10-26T00:57:28.593Z"
   },
   {
    "duration": 33,
    "start_time": "2024-10-26T00:57:28.600Z"
   },
   {
    "duration": 9,
    "start_time": "2024-10-26T00:57:28.634Z"
   },
   {
    "duration": 88,
    "start_time": "2024-10-26T00:57:28.645Z"
   },
   {
    "duration": 7,
    "start_time": "2024-10-26T00:57:28.735Z"
   },
   {
    "duration": 2,
    "start_time": "2024-10-26T00:57:28.743Z"
   },
   {
    "duration": 3,
    "start_time": "2024-10-26T00:57:28.747Z"
   },
   {
    "duration": 160,
    "start_time": "2024-10-26T00:57:28.752Z"
   },
   {
    "duration": 6,
    "start_time": "2024-10-26T00:57:28.914Z"
   },
   {
    "duration": 16,
    "start_time": "2024-10-26T00:57:28.921Z"
   },
   {
    "duration": 9,
    "start_time": "2024-10-26T00:57:28.938Z"
   },
   {
    "duration": 4,
    "start_time": "2024-10-26T00:57:28.949Z"
   },
   {
    "duration": 117,
    "start_time": "2024-10-26T00:57:28.956Z"
   },
   {
    "duration": 3,
    "start_time": "2024-10-26T00:57:29.075Z"
   },
   {
    "duration": 95,
    "start_time": "2024-10-26T00:57:29.080Z"
   },
   {
    "duration": 4,
    "start_time": "2024-10-26T00:57:29.177Z"
   },
   {
    "duration": 3,
    "start_time": "2024-10-26T00:57:29.183Z"
   },
   {
    "duration": 2,
    "start_time": "2024-10-26T00:57:29.188Z"
   },
   {
    "duration": 4,
    "start_time": "2024-10-26T00:57:29.192Z"
   },
   {
    "duration": 4,
    "start_time": "2024-10-26T00:57:29.198Z"
   },
   {
    "duration": 149,
    "start_time": "2024-10-26T00:57:29.230Z"
   },
   {
    "duration": 96,
    "start_time": "2024-10-26T00:57:29.381Z"
   },
   {
    "duration": 8,
    "start_time": "2024-10-26T00:57:29.478Z"
   },
   {
    "duration": 5,
    "start_time": "2024-10-26T00:57:44.171Z"
   },
   {
    "duration": 9,
    "start_time": "2024-10-26T00:57:46.528Z"
   },
   {
    "duration": 7,
    "start_time": "2024-10-26T00:57:48.873Z"
   },
   {
    "duration": 3,
    "start_time": "2024-10-26T00:57:53.016Z"
   },
   {
    "duration": 1187,
    "start_time": "2024-10-26T00:57:54.639Z"
   },
   {
    "duration": 6,
    "start_time": "2024-10-26T00:58:08.194Z"
   },
   {
    "duration": 4,
    "start_time": "2024-10-26T00:58:13.626Z"
   },
   {
    "duration": 2,
    "start_time": "2024-10-26T00:58:40.433Z"
   },
   {
    "duration": 453,
    "start_time": "2024-10-26T00:58:42.377Z"
   },
   {
    "duration": 6,
    "start_time": "2024-10-26T00:58:48.650Z"
   },
   {
    "duration": 3,
    "start_time": "2024-10-26T00:58:50.880Z"
   },
   {
    "duration": 3,
    "start_time": "2024-10-26T00:58:52.948Z"
   },
   {
    "duration": 247,
    "start_time": "2024-10-26T00:58:54.928Z"
   },
   {
    "duration": 3,
    "start_time": "2024-10-26T01:03:39.526Z"
   },
   {
    "duration": 5,
    "start_time": "2024-10-26T01:06:56.999Z"
   },
   {
    "duration": 2,
    "start_time": "2024-10-26T01:10:57.008Z"
   },
   {
    "duration": 7,
    "start_time": "2024-10-26T01:11:45.975Z"
   },
   {
    "duration": 217,
    "start_time": "2024-10-26T01:14:42.925Z"
   },
   {
    "duration": 5,
    "start_time": "2024-10-26T01:14:55.345Z"
   },
   {
    "duration": 5,
    "start_time": "2024-10-26T01:15:03.151Z"
   },
   {
    "duration": 5,
    "start_time": "2024-10-26T01:15:59.452Z"
   },
   {
    "duration": 7,
    "start_time": "2024-10-26T01:16:16.867Z"
   },
   {
    "duration": 2,
    "start_time": "2024-10-26T01:30:32.718Z"
   },
   {
    "duration": 9,
    "start_time": "2024-10-26T02:50:19.290Z"
   },
   {
    "duration": 3,
    "start_time": "2024-10-26T14:34:28.909Z"
   },
   {
    "duration": 156,
    "start_time": "2024-10-26T14:37:26.363Z"
   },
   {
    "duration": 2,
    "start_time": "2024-10-26T14:37:52.428Z"
   },
   {
    "duration": 2613,
    "start_time": "2024-10-26T14:37:52.433Z"
   },
   {
    "duration": 9,
    "start_time": "2024-10-26T14:37:55.048Z"
   },
   {
    "duration": 7,
    "start_time": "2024-10-26T14:37:55.060Z"
   },
   {
    "duration": 9,
    "start_time": "2024-10-26T14:37:55.069Z"
   },
   {
    "duration": 9,
    "start_time": "2024-10-26T14:37:55.079Z"
   },
   {
    "duration": 7,
    "start_time": "2024-10-26T14:37:55.090Z"
   },
   {
    "duration": 9,
    "start_time": "2024-10-26T14:37:55.099Z"
   },
   {
    "duration": 6,
    "start_time": "2024-10-26T14:37:55.110Z"
   },
   {
    "duration": 25,
    "start_time": "2024-10-26T14:37:55.118Z"
   },
   {
    "duration": 3,
    "start_time": "2024-10-26T14:37:55.145Z"
   },
   {
    "duration": 262,
    "start_time": "2024-10-26T14:37:55.150Z"
   },
   {
    "duration": 2,
    "start_time": "2024-10-26T14:37:55.414Z"
   },
   {
    "duration": 22,
    "start_time": "2024-10-26T14:37:55.420Z"
   },
   {
    "duration": 3,
    "start_time": "2024-10-26T14:37:55.444Z"
   },
   {
    "duration": 3,
    "start_time": "2024-10-26T14:37:55.449Z"
   },
   {
    "duration": 8,
    "start_time": "2024-10-26T14:37:55.453Z"
   },
   {
    "duration": 8,
    "start_time": "2024-10-26T14:37:55.463Z"
   },
   {
    "duration": 96,
    "start_time": "2024-10-26T14:37:55.473Z"
   },
   {
    "duration": 7,
    "start_time": "2024-10-26T14:37:55.571Z"
   },
   {
    "duration": 2,
    "start_time": "2024-10-26T14:37:55.580Z"
   },
   {
    "duration": 3,
    "start_time": "2024-10-26T14:37:55.584Z"
   },
   {
    "duration": 154,
    "start_time": "2024-10-26T14:37:55.589Z"
   },
   {
    "duration": 9,
    "start_time": "2024-10-26T14:37:55.745Z"
   },
   {
    "duration": 9,
    "start_time": "2024-10-26T14:37:55.755Z"
   },
   {
    "duration": 5,
    "start_time": "2024-10-26T14:37:55.766Z"
   },
   {
    "duration": 4,
    "start_time": "2024-10-26T14:37:55.773Z"
   },
   {
    "duration": 189,
    "start_time": "2024-10-26T14:37:55.779Z"
   },
   {
    "duration": 2,
    "start_time": "2024-10-26T14:37:55.970Z"
   },
   {
    "duration": 91,
    "start_time": "2024-10-26T14:37:55.974Z"
   },
   {
    "duration": 4,
    "start_time": "2024-10-26T14:37:56.066Z"
   },
   {
    "duration": 3,
    "start_time": "2024-10-26T14:37:56.072Z"
   },
   {
    "duration": 2,
    "start_time": "2024-10-26T14:37:56.077Z"
   },
   {
    "duration": 3,
    "start_time": "2024-10-26T14:37:56.081Z"
   },
   {
    "duration": 5,
    "start_time": "2024-10-26T14:37:56.086Z"
   },
   {
    "duration": 102,
    "start_time": "2024-10-26T14:37:56.092Z"
   },
   {
    "duration": 103,
    "start_time": "2024-10-26T14:37:56.196Z"
   },
   {
    "duration": 8,
    "start_time": "2024-10-26T14:37:56.301Z"
   },
   {
    "duration": 5,
    "start_time": "2024-10-26T14:41:58.690Z"
   },
   {
    "duration": 5,
    "start_time": "2024-10-26T14:42:04.398Z"
   },
   {
    "duration": 4,
    "start_time": "2024-10-26T14:42:07.947Z"
   },
   {
    "duration": 5,
    "start_time": "2024-10-26T14:42:30.244Z"
   },
   {
    "duration": 4,
    "start_time": "2024-10-26T14:42:54.377Z"
   },
   {
    "duration": 7,
    "start_time": "2024-10-26T14:47:35.001Z"
   },
   {
    "duration": 3,
    "start_time": "2024-10-26T14:47:41.274Z"
   },
   {
    "duration": 4,
    "start_time": "2024-10-26T14:47:47.113Z"
   },
   {
    "duration": 5,
    "start_time": "2024-10-26T14:47:51.593Z"
   },
   {
    "duration": 4,
    "start_time": "2024-10-26T14:51:29.622Z"
   },
   {
    "duration": 5,
    "start_time": "2024-10-26T14:51:55.869Z"
   },
   {
    "duration": 5,
    "start_time": "2024-10-26T14:52:32.149Z"
   },
   {
    "duration": 163,
    "start_time": "2024-10-26T18:11:54.461Z"
   },
   {
    "duration": 11,
    "start_time": "2024-10-26T18:12:10.696Z"
   },
   {
    "duration": 11,
    "start_time": "2024-10-26T18:12:30.354Z"
   },
   {
    "duration": 12,
    "start_time": "2024-10-26T18:13:48.007Z"
   },
   {
    "duration": 11,
    "start_time": "2024-10-26T18:14:12.855Z"
   },
   {
    "duration": 12,
    "start_time": "2024-10-26T18:14:29.735Z"
   },
   {
    "duration": 13,
    "start_time": "2024-10-26T18:15:31.669Z"
   },
   {
    "duration": 33,
    "start_time": "2024-10-26T18:15:54.476Z"
   },
   {
    "duration": 3,
    "start_time": "2024-10-26T18:17:28.702Z"
   },
   {
    "duration": 2532,
    "start_time": "2024-10-26T18:17:28.707Z"
   },
   {
    "duration": 11,
    "start_time": "2024-10-26T18:17:31.240Z"
   },
   {
    "duration": 8,
    "start_time": "2024-10-26T18:17:31.252Z"
   },
   {
    "duration": 9,
    "start_time": "2024-10-26T18:17:31.262Z"
   },
   {
    "duration": 9,
    "start_time": "2024-10-26T18:17:31.272Z"
   },
   {
    "duration": 8,
    "start_time": "2024-10-26T18:17:31.282Z"
   },
   {
    "duration": 9,
    "start_time": "2024-10-26T18:17:31.291Z"
   },
   {
    "duration": 4,
    "start_time": "2024-10-26T18:17:31.303Z"
   },
   {
    "duration": 5,
    "start_time": "2024-10-26T18:17:31.332Z"
   },
   {
    "duration": 6,
    "start_time": "2024-10-26T18:17:31.339Z"
   },
   {
    "duration": 2,
    "start_time": "2024-10-26T18:17:31.348Z"
   },
   {
    "duration": 4,
    "start_time": "2024-10-26T18:17:31.351Z"
   },
   {
    "duration": 329,
    "start_time": "2024-10-26T18:17:31.359Z"
   },
   {
    "duration": 9,
    "start_time": "2024-10-26T18:17:31.690Z"
   },
   {
    "duration": 3,
    "start_time": "2024-10-26T18:17:31.700Z"
   },
   {
    "duration": 4,
    "start_time": "2024-10-26T18:17:31.705Z"
   },
   {
    "duration": 8,
    "start_time": "2024-10-26T18:17:31.731Z"
   },
   {
    "duration": 8,
    "start_time": "2024-10-26T18:17:31.740Z"
   },
   {
    "duration": 4,
    "start_time": "2024-10-26T18:17:31.750Z"
   },
   {
    "duration": 5,
    "start_time": "2024-10-26T18:17:31.756Z"
   },
   {
    "duration": 99,
    "start_time": "2024-10-26T18:17:31.764Z"
   },
   {
    "duration": 6,
    "start_time": "2024-10-26T18:17:31.865Z"
   },
   {
    "duration": 3,
    "start_time": "2024-10-26T18:17:31.872Z"
   },
   {
    "duration": 3,
    "start_time": "2024-10-26T18:17:31.877Z"
   },
   {
    "duration": 216,
    "start_time": "2024-10-26T18:17:31.881Z"
   },
   {
    "duration": 8,
    "start_time": "2024-10-26T18:17:32.099Z"
   },
   {
    "duration": 23,
    "start_time": "2024-10-26T18:17:32.109Z"
   },
   {
    "duration": 7,
    "start_time": "2024-10-26T18:17:32.134Z"
   },
   {
    "duration": 5,
    "start_time": "2024-10-26T18:17:32.143Z"
   },
   {
    "duration": 5,
    "start_time": "2024-10-26T18:17:32.150Z"
   },
   {
    "duration": 4,
    "start_time": "2024-10-26T18:17:32.157Z"
   },
   {
    "duration": 5,
    "start_time": "2024-10-26T18:17:32.163Z"
   },
   {
    "duration": 140,
    "start_time": "2024-10-26T18:17:32.169Z"
   },
   {
    "duration": 2,
    "start_time": "2024-10-26T18:17:32.311Z"
   },
   {
    "duration": 94,
    "start_time": "2024-10-26T18:17:32.315Z"
   },
   {
    "duration": 5,
    "start_time": "2024-10-26T18:17:32.411Z"
   },
   {
    "duration": 15,
    "start_time": "2024-10-26T18:17:32.418Z"
   },
   {
    "duration": 3,
    "start_time": "2024-10-26T18:17:32.435Z"
   },
   {
    "duration": 4,
    "start_time": "2024-10-26T18:17:32.439Z"
   },
   {
    "duration": 4,
    "start_time": "2024-10-26T18:17:32.448Z"
   },
   {
    "duration": 95,
    "start_time": "2024-10-26T18:17:32.454Z"
   },
   {
    "duration": 97,
    "start_time": "2024-10-26T18:17:32.550Z"
   },
   {
    "duration": 9,
    "start_time": "2024-10-26T18:17:32.649Z"
   },
   {
    "duration": 9,
    "start_time": "2024-10-26T18:18:02.299Z"
   },
   {
    "duration": 3,
    "start_time": "2024-10-26T20:14:22.806Z"
   },
   {
    "duration": 5,
    "start_time": "2024-10-26T20:14:24.860Z"
   },
   {
    "duration": 3,
    "start_time": "2024-10-26T20:14:29.742Z"
   },
   {
    "duration": 248,
    "start_time": "2024-10-26T20:17:21.854Z"
   },
   {
    "duration": 4,
    "start_time": "2024-10-26T20:17:34.030Z"
   },
   {
    "duration": 3753,
    "start_time": "2024-10-26T20:17:34.037Z"
   },
   {
    "duration": 15,
    "start_time": "2024-10-26T20:17:37.792Z"
   },
   {
    "duration": 37,
    "start_time": "2024-10-26T20:17:37.809Z"
   },
   {
    "duration": 13,
    "start_time": "2024-10-26T20:17:37.850Z"
   },
   {
    "duration": 10,
    "start_time": "2024-10-26T20:17:37.865Z"
   },
   {
    "duration": 9,
    "start_time": "2024-10-26T20:17:37.877Z"
   },
   {
    "duration": 11,
    "start_time": "2024-10-26T20:17:37.888Z"
   },
   {
    "duration": 8,
    "start_time": "2024-10-26T20:17:37.900Z"
   },
   {
    "duration": 8,
    "start_time": "2024-10-26T20:17:37.911Z"
   },
   {
    "duration": 11,
    "start_time": "2024-10-26T20:17:37.922Z"
   },
   {
    "duration": 4,
    "start_time": "2024-10-26T20:17:37.937Z"
   },
   {
    "duration": 6,
    "start_time": "2024-10-26T20:17:37.943Z"
   },
   {
    "duration": 275,
    "start_time": "2024-10-26T20:17:37.955Z"
   },
   {
    "duration": 12,
    "start_time": "2024-10-26T20:17:38.231Z"
   },
   {
    "duration": 4,
    "start_time": "2024-10-26T20:17:38.246Z"
   },
   {
    "duration": 6,
    "start_time": "2024-10-26T20:17:38.251Z"
   },
   {
    "duration": 11,
    "start_time": "2024-10-26T20:17:38.259Z"
   },
   {
    "duration": 12,
    "start_time": "2024-10-26T20:17:38.273Z"
   },
   {
    "duration": 9,
    "start_time": "2024-10-26T20:17:38.293Z"
   },
   {
    "duration": 8,
    "start_time": "2024-10-26T20:17:38.305Z"
   },
   {
    "duration": 101,
    "start_time": "2024-10-26T20:17:38.317Z"
   },
   {
    "duration": 12,
    "start_time": "2024-10-26T20:17:38.421Z"
   },
   {
    "duration": 3,
    "start_time": "2024-10-26T20:17:38.437Z"
   },
   {
    "duration": 3,
    "start_time": "2024-10-26T20:17:38.446Z"
   },
   {
    "duration": 175,
    "start_time": "2024-10-26T20:17:38.451Z"
   },
   {
    "duration": 11,
    "start_time": "2024-10-26T20:17:38.630Z"
   },
   {
    "duration": 15,
    "start_time": "2024-10-26T20:17:38.645Z"
   },
   {
    "duration": 9,
    "start_time": "2024-10-26T20:17:38.663Z"
   },
   {
    "duration": 8,
    "start_time": "2024-10-26T20:17:38.675Z"
   },
   {
    "duration": 9,
    "start_time": "2024-10-26T20:17:38.686Z"
   },
   {
    "duration": 8,
    "start_time": "2024-10-26T20:17:38.698Z"
   },
   {
    "duration": 6,
    "start_time": "2024-10-26T20:17:38.711Z"
   },
   {
    "duration": 128,
    "start_time": "2024-10-26T20:17:38.719Z"
   },
   {
    "duration": 2,
    "start_time": "2024-10-26T20:17:38.849Z"
   },
   {
    "duration": 120,
    "start_time": "2024-10-26T20:17:38.856Z"
   },
   {
    "duration": 6,
    "start_time": "2024-10-26T20:17:38.978Z"
   },
   {
    "duration": 3,
    "start_time": "2024-10-26T20:17:38.988Z"
   },
   {
    "duration": 4,
    "start_time": "2024-10-26T20:17:38.992Z"
   },
   {
    "duration": 4,
    "start_time": "2024-10-26T20:17:38.998Z"
   },
   {
    "duration": 19,
    "start_time": "2024-10-26T20:17:39.007Z"
   },
   {
    "duration": 106,
    "start_time": "2024-10-26T20:17:39.028Z"
   },
   {
    "duration": 125,
    "start_time": "2024-10-26T20:17:39.136Z"
   },
   {
    "duration": 8,
    "start_time": "2024-10-26T20:17:39.263Z"
   },
   {
    "duration": 4,
    "start_time": "2024-10-26T20:17:39.273Z"
   },
   {
    "duration": 6,
    "start_time": "2024-10-26T20:17:39.278Z"
   }
  ],
  "kernelspec": {
   "display_name": "Python 3 (ipykernel)",
   "language": "python",
   "name": "python3"
  },
  "language_info": {
   "codemirror_mode": {
    "name": "ipython",
    "version": 3
   },
   "file_extension": ".py",
   "mimetype": "text/x-python",
   "name": "python",
   "nbconvert_exporter": "python",
   "pygments_lexer": "ipython3",
   "version": "3.9.19"
  },
  "toc": {
   "base_numbering": 1,
   "nav_menu": {},
   "number_sections": true,
   "sideBar": true,
   "skip_h1_title": true,
   "title_cell": "Table of Contents",
   "title_sidebar": "Contents",
   "toc_cell": true,
   "toc_position": {
    "height": "calc(100% - 180px)",
    "left": "10px",
    "top": "150px",
    "width": "301.797px"
   },
   "toc_section_display": true,
   "toc_window_display": true
  }
 },
 "nbformat": 4,
 "nbformat_minor": 2
}
